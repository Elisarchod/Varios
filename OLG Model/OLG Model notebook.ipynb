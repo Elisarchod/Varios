{
 "cells": [
  {
   "cell_type": "code",
   "execution_count": 10,
   "metadata": {},
   "outputs": [
    {
     "name": "stdout",
     "output_type": "stream",
     "text": [
      "The autoreload extension is already loaded. To reload it, use:\n",
      "  %reload_ext autoreload\n"
     ]
    }
   ],
   "source": [
    "import numpy as np\n",
    "import pandas as pd\n",
    "from OLG_model_src import  OLG, Parameters,plot_data\n",
    "import altair as alt\n",
    "\n",
    "\n",
    "%load_ext autoreload\n",
    "%autoreload 2"
   ]
  },
  {
   "cell_type": "code",
   "execution_count": 11,
   "metadata": {},
   "outputs": [],
   "source": [
    "path = 'C:/Users/User/Desktop/tesim/OLG Model/'\n",
    "\n",
    "jh_hubei_data = pd.read_csv(path + 'jh_hubei_data.csv').values\n",
    "countrydata_df = pd.read_csv(path + 'countries_data.csv', parse_dates=['date'])\n",
    "stringency = pd.read_csv(path + 'stringencyExample.csv', usecols=['date', 'StringencyIndex'], parse_dates=['date'])\n"
   ]
  },
  {
   "cell_type": "code",
   "execution_count": 14,
   "metadata": {},
   "outputs": [],
   "source": [
    "p = Parameters(tau=8,\n",
    "               init_infected=50,\n",
    "               fi=0.25,\n",
    "               theta=0.0771,\n",
    "               countries=['israel'],\n",
    "               critical_condition_rate=0.051,\n",
    "               recovery_rate=0.4,\n",
    "               critical_condition_time=10,\n",
    "               recovery_time=6\n",
    "               )\n"
   ]
  },
  {
   "cell_type": "code",
   "execution_count": 21,
   "metadata": {},
   "outputs": [],
   "source": [
    "olg_model = OLG(countrydata_df, p, jh_hubei_data, stringency) # please note stringency file \n",
    "\n",
    "olg_model.df[['date', 'Total Detected', 'r_values','R', 'Daily Recovery Predicted' \n",
    "                         ]].to_excel('olg_results.xlsx', index=False)"
   ]
  },
  {
   "cell_type": "code",
   "execution_count": 24,
   "metadata": {
    "scrolled": true
   },
   "outputs": [
    {
     "data": {
      "text/html": [
       "\n",
       "<div id=\"altair-viz-95959623fe7e461a968b087878e9faae\"></div>\n",
       "<script type=\"text/javascript\">\n",
       "  (function(spec, embedOpt){\n",
       "    const outputDiv = document.getElementById(\"altair-viz-95959623fe7e461a968b087878e9faae\");\n",
       "    const paths = {\n",
       "      \"vega\": \"https://cdn.jsdelivr.net/npm//vega@5?noext\",\n",
       "      \"vega-lib\": \"https://cdn.jsdelivr.net/npm//vega-lib?noext\",\n",
       "      \"vega-lite\": \"https://cdn.jsdelivr.net/npm//vega-lite@4.0.2?noext\",\n",
       "      \"vega-embed\": \"https://cdn.jsdelivr.net/npm//vega-embed@6?noext\",\n",
       "    };\n",
       "\n",
       "    function loadScript(lib) {\n",
       "      return new Promise(function(resolve, reject) {\n",
       "        var s = document.createElement('script');\n",
       "        s.src = paths[lib];\n",
       "        s.async = true;\n",
       "        s.onload = () => resolve(paths[lib]);\n",
       "        s.onerror = () => reject(`Error loading script: ${paths[lib]}`);\n",
       "        document.getElementsByTagName(\"head\")[0].appendChild(s);\n",
       "      });\n",
       "    }\n",
       "\n",
       "    function showError(err) {\n",
       "      outputDiv.innerHTML = `<div class=\"error\" style=\"color:red;\">${err}</div>`;\n",
       "      throw err;\n",
       "    }\n",
       "\n",
       "    function displayChart(vegaEmbed) {\n",
       "      vegaEmbed(outputDiv, spec, embedOpt)\n",
       "        .catch(err => showError(`Javascript Error: ${err.message}<br>This usually means there's a typo in your chart specification. See the javascript console for the full traceback.`));\n",
       "    }\n",
       "\n",
       "    if(typeof define === \"function\" && define.amd) {\n",
       "      requirejs.config({paths});\n",
       "      require([\"vega-embed\"], displayChart, err => showError(`Error loading script: ${err.message}`));\n",
       "    } else if (typeof vegaEmbed === \"function\") {\n",
       "      displayChart(vegaEmbed);\n",
       "    } else {\n",
       "      loadScript(\"vega\")\n",
       "        .then(() => loadScript(\"vega-lite\"))\n",
       "        .then(() => loadScript(\"vega-embed\"))\n",
       "        .catch(showError)\n",
       "        .then(() => displayChart(vegaEmbed));\n",
       "    }\n",
       "  })({\"config\": {\"view\": {\"continuousWidth\": 400, \"continuousHeight\": 300}}, \"layer\": [{\"data\": {\"name\": \"data-5faaac2e29f88440d7d424fdf038aba5\"}, \"mark\": {\"type\": \"line\", \"interpolate\": \"basis\"}, \"encoding\": {\"color\": {\"type\": \"nominal\", \"field\": \"variable\"}, \"x\": {\"type\": \"quantitative\", \"field\": \"corona_days\"}, \"y\": {\"type\": \"quantitative\", \"field\": \"value\"}}}, {\"data\": {\"name\": \"data-6d34e4743bef3713696bda22bf1edb22\"}, \"mark\": {\"type\": \"line\", \"interpolate\": \"basis\", \"strokeDash\": [1, 1]}, \"encoding\": {\"color\": {\"type\": \"nominal\", \"field\": \"variable\"}, \"x\": {\"type\": \"quantitative\", \"field\": \"corona_days\"}, \"y\": {\"type\": \"quantitative\", \"field\": \"value\"}}}], \"height\": 300, \"width\": 600, \"$schema\": \"https://vega.github.io/schema/vega-lite/v4.0.2.json\", \"datasets\": {\"data-5faaac2e29f88440d7d424fdf038aba5\": [{\"corona_days\": 1, \"variable\": \"Daily Recovery Predicted\", \"value\": 0}, {\"corona_days\": 2, \"variable\": \"Daily Recovery Predicted\", \"value\": 0}, {\"corona_days\": 3, \"variable\": \"Daily Recovery Predicted\", \"value\": 0}, {\"corona_days\": 4, \"variable\": \"Daily Recovery Predicted\", \"value\": 0}, {\"corona_days\": 5, \"variable\": \"Daily Recovery Predicted\", \"value\": 0}, {\"corona_days\": 6, \"variable\": \"Daily Recovery Predicted\", \"value\": 0}, {\"corona_days\": 7, \"variable\": \"Daily Recovery Predicted\", \"value\": 0}, {\"corona_days\": 8, \"variable\": \"Daily Recovery Predicted\", \"value\": 0}, {\"corona_days\": 9, \"variable\": \"Daily Recovery Predicted\", \"value\": 0}, {\"corona_days\": 10, \"variable\": \"Daily Recovery Predicted\", \"value\": 0}, {\"corona_days\": 11, \"variable\": \"Daily Recovery Predicted\", \"value\": 0}, {\"corona_days\": 12, \"variable\": \"Daily Recovery Predicted\", \"value\": 0}, {\"corona_days\": 13, \"variable\": \"Daily Recovery Predicted\", \"value\": 0}, {\"corona_days\": 14, \"variable\": \"Daily Recovery Predicted\", \"value\": 0}, {\"corona_days\": 15, \"variable\": \"Daily Recovery Predicted\", \"value\": 0}, {\"corona_days\": 16, \"variable\": \"Daily Recovery Predicted\", \"value\": 0}, {\"corona_days\": 17, \"variable\": \"Daily Recovery Predicted\", \"value\": 0}, {\"corona_days\": 18, \"variable\": \"Daily Recovery Predicted\", \"value\": 0}, {\"corona_days\": 19, \"variable\": \"Daily Recovery Predicted\", \"value\": 0}, {\"corona_days\": 20, \"variable\": \"Daily Recovery Predicted\", \"value\": 0}, {\"corona_days\": 21, \"variable\": \"Daily Recovery Predicted\", \"value\": 0}, {\"corona_days\": 22, \"variable\": \"Daily Recovery Predicted\", \"value\": 1}, {\"corona_days\": 23, \"variable\": \"Daily Recovery Predicted\", \"value\": 0}, {\"corona_days\": 24, \"variable\": \"Daily Recovery Predicted\", \"value\": 1}, {\"corona_days\": 25, \"variable\": \"Daily Recovery Predicted\", \"value\": 0}, {\"corona_days\": 26, \"variable\": \"Daily Recovery Predicted\", \"value\": 6}, {\"corona_days\": 27, \"variable\": \"Daily Recovery Predicted\", \"value\": 0}, {\"corona_days\": 28, \"variable\": \"Daily Recovery Predicted\", \"value\": 3}, {\"corona_days\": 29, \"variable\": \"Daily Recovery Predicted\", \"value\": 3}, {\"corona_days\": 30, \"variable\": \"Daily Recovery Predicted\", \"value\": 7}, {\"corona_days\": 31, \"variable\": \"Daily Recovery Predicted\", \"value\": 9}, {\"corona_days\": 32, \"variable\": \"Daily Recovery Predicted\", \"value\": 8}, {\"corona_days\": 33, \"variable\": \"Daily Recovery Predicted\", \"value\": 6}, {\"corona_days\": 34, \"variable\": \"Daily Recovery Predicted\", \"value\": 6}, {\"corona_days\": 35, \"variable\": \"Daily Recovery Predicted\", \"value\": 11}, {\"corona_days\": 36, \"variable\": \"Daily Recovery Predicted\", \"value\": 12}, {\"corona_days\": 37, \"variable\": \"Daily Recovery Predicted\", \"value\": 9}, {\"corona_days\": 38, \"variable\": \"Daily Recovery Predicted\", \"value\": 13}, {\"corona_days\": 39, \"variable\": \"Daily Recovery Predicted\", \"value\": 14}, {\"corona_days\": 40, \"variable\": \"Daily Recovery Predicted\", \"value\": 15}, {\"corona_days\": 41, \"variable\": \"Daily Recovery Predicted\", \"value\": 11}, {\"corona_days\": 42, \"variable\": \"Daily Recovery Predicted\", \"value\": 8}, {\"corona_days\": 43, \"variable\": \"Daily Recovery Predicted\", \"value\": 11}], \"data-6d34e4743bef3713696bda22bf1edb22\": [{\"corona_days\": 44, \"variable\": \"Daily Recovery Predicted\", \"value\": 9}, {\"corona_days\": 45, \"variable\": \"Daily Recovery Predicted\", \"value\": 7}, {\"corona_days\": 46, \"variable\": \"Daily Recovery Predicted\", \"value\": 3}, {\"corona_days\": 47, \"variable\": \"Daily Recovery Predicted\", \"value\": 11}, {\"corona_days\": 48, \"variable\": \"Daily Recovery Predicted\", \"value\": 8}, {\"corona_days\": 49, \"variable\": \"Daily Recovery Predicted\", \"value\": 6}, {\"corona_days\": 50, \"variable\": \"Daily Recovery Predicted\", \"value\": 8}, {\"corona_days\": 51, \"variable\": \"Daily Recovery Predicted\", \"value\": 8}, {\"corona_days\": 52, \"variable\": \"Daily Recovery Predicted\", \"value\": 9}, {\"corona_days\": 53, \"variable\": \"Daily Recovery Predicted\", \"value\": 9}, {\"corona_days\": 54, \"variable\": \"Daily Recovery Predicted\", \"value\": 5}, {\"corona_days\": 55, \"variable\": \"Daily Recovery Predicted\", \"value\": 4}, {\"corona_days\": 56, \"variable\": \"Daily Recovery Predicted\", \"value\": 2}, {\"corona_days\": 57, \"variable\": \"Daily Recovery Predicted\", \"value\": 7}, {\"corona_days\": 58, \"variable\": \"Daily Recovery Predicted\", \"value\": 4}, {\"corona_days\": 59, \"variable\": \"Daily Recovery Predicted\", \"value\": 4}, {\"corona_days\": 60, \"variable\": \"Daily Recovery Predicted\", \"value\": 1}, {\"corona_days\": 61, \"variable\": \"Daily Recovery Predicted\", \"value\": 1}, {\"corona_days\": 62, \"variable\": \"Daily Recovery Predicted\", \"value\": 0}]}}, {\"mode\": \"vega-lite\"});\n",
       "</script>"
      ],
      "text/plain": [
       "alt.LayerChart(...)"
      ]
     },
     "execution_count": 24,
     "metadata": {},
     "output_type": "execute_result"
    }
   ],
   "source": [
    "plot_data(df=olg_model.df, countries=p.countries, var_in_multi_line=['Daily Recovery Predicted'])"
   ]
  },
  {
   "cell_type": "code",
   "execution_count": 25,
   "metadata": {},
   "outputs": [
    {
     "data": {
      "text/html": [
       "\n",
       "<div id=\"altair-viz-dd6a5047ea144bc098a47b9d187d31ce\"></div>\n",
       "<script type=\"text/javascript\">\n",
       "  (function(spec, embedOpt){\n",
       "    const outputDiv = document.getElementById(\"altair-viz-dd6a5047ea144bc098a47b9d187d31ce\");\n",
       "    const paths = {\n",
       "      \"vega\": \"https://cdn.jsdelivr.net/npm//vega@5?noext\",\n",
       "      \"vega-lib\": \"https://cdn.jsdelivr.net/npm//vega-lib?noext\",\n",
       "      \"vega-lite\": \"https://cdn.jsdelivr.net/npm//vega-lite@4.0.2?noext\",\n",
       "      \"vega-embed\": \"https://cdn.jsdelivr.net/npm//vega-embed@6?noext\",\n",
       "    };\n",
       "\n",
       "    function loadScript(lib) {\n",
       "      return new Promise(function(resolve, reject) {\n",
       "        var s = document.createElement('script');\n",
       "        s.src = paths[lib];\n",
       "        s.async = true;\n",
       "        s.onload = () => resolve(paths[lib]);\n",
       "        s.onerror = () => reject(`Error loading script: ${paths[lib]}`);\n",
       "        document.getElementsByTagName(\"head\")[0].appendChild(s);\n",
       "      });\n",
       "    }\n",
       "\n",
       "    function showError(err) {\n",
       "      outputDiv.innerHTML = `<div class=\"error\" style=\"color:red;\">${err}</div>`;\n",
       "      throw err;\n",
       "    }\n",
       "\n",
       "    function displayChart(vegaEmbed) {\n",
       "      vegaEmbed(outputDiv, spec, embedOpt)\n",
       "        .catch(err => showError(`Javascript Error: ${err.message}<br>This usually means there's a typo in your chart specification. See the javascript console for the full traceback.`));\n",
       "    }\n",
       "\n",
       "    if(typeof define === \"function\" && define.amd) {\n",
       "      requirejs.config({paths});\n",
       "      require([\"vega-embed\"], displayChart, err => showError(`Error loading script: ${err.message}`));\n",
       "    } else if (typeof vegaEmbed === \"function\") {\n",
       "      displayChart(vegaEmbed);\n",
       "    } else {\n",
       "      loadScript(\"vega\")\n",
       "        .then(() => loadScript(\"vega-lite\"))\n",
       "        .then(() => loadScript(\"vega-embed\"))\n",
       "        .catch(showError)\n",
       "        .then(() => displayChart(vegaEmbed));\n",
       "    }\n",
       "  })({\"config\": {\"view\": {\"continuousWidth\": 400, \"continuousHeight\": 300}}, \"layer\": [{\"data\": {\"name\": \"data-af4546ec15d0e74e42bf2ca495078e4b\"}, \"mark\": {\"type\": \"line\", \"interpolate\": \"basis\"}, \"encoding\": {\"color\": {\"type\": \"nominal\", \"field\": \"variable\"}, \"x\": {\"type\": \"quantitative\", \"field\": \"corona_days\"}, \"y\": {\"type\": \"quantitative\", \"field\": \"value\"}}}, {\"data\": {\"name\": \"data-f5cde743b3abe9458abc04297dda40b9\"}, \"mark\": {\"type\": \"line\", \"interpolate\": \"basis\", \"strokeDash\": [1, 1]}, \"encoding\": {\"color\": {\"type\": \"nominal\", \"field\": \"variable\"}, \"x\": {\"type\": \"quantitative\", \"field\": \"corona_days\"}, \"y\": {\"type\": \"quantitative\", \"field\": \"value\"}}}], \"height\": 300, \"width\": 600, \"$schema\": \"https://vega.github.io/schema/vega-lite/v4.0.2.json\", \"datasets\": {\"data-af4546ec15d0e74e42bf2ca495078e4b\": [{\"corona_days\": 1, \"variable\": \"R\", \"value\": 0.0}, {\"corona_days\": 2, \"variable\": \"R\", \"value\": 0.4999999500000011}, {\"corona_days\": 3, \"variable\": \"R\", \"value\": 0.7933332660888902}, {\"corona_days\": 4, \"variable\": \"R\", \"value\": 0.917044594710423}, {\"corona_days\": 5, \"variable\": \"R\", \"value\": 1.0730078868575488}, {\"corona_days\": 6, \"variable\": \"R\", \"value\": 1.6047539064468659}, {\"corona_days\": 7, \"variable\": \"R\", \"value\": 1.7083808437337729}, {\"corona_days\": 8, \"variable\": \"R\", \"value\": 2.107441870029261}, {\"corona_days\": 9, \"variable\": \"R\", \"value\": 2.238314369455863}, {\"corona_days\": 10, \"variable\": \"R\", \"value\": 2.90818618737294}, {\"corona_days\": 11, \"variable\": \"R\", \"value\": 2.6911887475033858}, {\"corona_days\": 12, \"variable\": \"R\", \"value\": 2.8416476912134976}, {\"corona_days\": 13, \"variable\": \"R\", \"value\": 2.9224049519108055}, {\"corona_days\": 14, \"variable\": \"R\", \"value\": 2.826913910970636}, {\"corona_days\": 15, \"variable\": \"R\", \"value\": 3.0805302919979036}, {\"corona_days\": 16, \"variable\": \"R\", \"value\": 2.9654801051148754}, {\"corona_days\": 17, \"variable\": \"R\", \"value\": 2.990401616608533}, {\"corona_days\": 18, \"variable\": \"R\", \"value\": 2.1103725820744383}, {\"corona_days\": 19, \"variable\": \"R\", \"value\": 2.237561813536007}, {\"corona_days\": 20, \"variable\": \"R\", \"value\": 2.1976257750799117}, {\"corona_days\": 21, \"variable\": \"R\", \"value\": 2.1175940615661784}, {\"corona_days\": 22, \"variable\": \"R\", \"value\": 1.9204695174130677}, {\"corona_days\": 23, \"variable\": \"R\", \"value\": 1.8141502234826867}, {\"corona_days\": 24, \"variable\": \"R\", \"value\": 1.7431236400028316}, {\"corona_days\": 25, \"variable\": \"R\", \"value\": 1.7243264344588156}, {\"corona_days\": 26, \"variable\": \"R\", \"value\": 1.5424430373970357}, {\"corona_days\": 27, \"variable\": \"R\", \"value\": 1.4989564598991467}, {\"corona_days\": 28, \"variable\": \"R\", \"value\": 1.4059680602787568}, {\"corona_days\": 29, \"variable\": \"R\", \"value\": 1.3429405264005565}, {\"corona_days\": 30, \"variable\": \"R\", \"value\": 1.1992090434367957}, {\"corona_days\": 31, \"variable\": \"R\", \"value\": 1.0979966682860225}, {\"corona_days\": 32, \"variable\": \"R\", \"value\": 1.01594797672037}, {\"corona_days\": 33, \"variable\": \"R\", \"value\": 0.9710524416143198}, {\"corona_days\": 34, \"variable\": \"R\", \"value\": 0.943034945653588}, {\"corona_days\": 35, \"variable\": \"R\", \"value\": 0.8795324744241482}, {\"corona_days\": 36, \"variable\": \"R\", \"value\": 0.8223399158093727}, {\"corona_days\": 37, \"variable\": \"R\", \"value\": 0.7969575369447828}, {\"corona_days\": 38, \"variable\": \"R\", \"value\": 0.7350134253449918}, {\"corona_days\": 39, \"variable\": \"R\", \"value\": 0.6499237212436242}, {\"corona_days\": 40, \"variable\": \"R\", \"value\": 0.5640367933744352}, {\"corona_days\": 41, \"variable\": \"R\", \"value\": 0.5282305633785684}, {\"corona_days\": 42, \"variable\": \"R\", \"value\": 0.4959623220075031}, {\"corona_days\": 43, \"variable\": \"R\", \"value\": 0.4499084811785161}], \"data-f5cde743b3abe9458abc04297dda40b9\": [{\"corona_days\": 44, \"variable\": \"R\", \"value\": 0.3430597784329841}, {\"corona_days\": 45, \"variable\": \"R\", \"value\": 0.24899240353903274}, {\"corona_days\": 46, \"variable\": \"R\", \"value\": 0.16695471640565485}, {\"corona_days\": 47, \"variable\": \"R\", \"value\": 0.09613136187263671}, {\"corona_days\": 48, \"variable\": \"R\", \"value\": 0.11233145163335734}, {\"corona_days\": 49, \"variable\": \"R\", \"value\": 0.12604379678988842}, {\"corona_days\": 50, \"variable\": \"R\", \"value\": 0.1374079265664374}, {\"corona_days\": 51, \"variable\": \"R\", \"value\": 0.14776468562632816}, {\"corona_days\": 52, \"variable\": \"R\", \"value\": 0.1567348513277691}, {\"corona_days\": 53, \"variable\": \"R\", \"value\": 0.16419610693491382}, {\"corona_days\": 54, \"variable\": \"R\", \"value\": 0.1703358359948517}, {\"corona_days\": 55, \"variable\": \"R\", \"value\": 0.1753164997035903}, {\"corona_days\": 56, \"variable\": \"R\", \"value\": 0.17922302111719612}, {\"corona_days\": 57, \"variable\": \"R\", \"value\": 0.18189879933019304}, {\"corona_days\": 58, \"variable\": \"R\", \"value\": 0.18361110631334587}, {\"corona_days\": 59, \"variable\": \"R\", \"value\": 0.1848857850369432}, {\"corona_days\": 60, \"variable\": \"R\", \"value\": 0.18583943899908517}, {\"corona_days\": 61, \"variable\": \"R\", \"value\": 0.18647977150067918}, {\"corona_days\": 62, \"variable\": \"R\", \"value\": 0.18682031952453526}]}}, {\"mode\": \"vega-lite\"});\n",
       "</script>"
      ],
      "text/plain": [
       "alt.LayerChart(...)"
      ]
     },
     "execution_count": 25,
     "metadata": {},
     "output_type": "execute_result"
    }
   ],
   "source": [
    "plot_data(df=olg_model.df, countries=p.countries, var_in_multi_line='R')"
   ]
  },
  {
   "cell_type": "code",
   "execution_count": null,
   "metadata": {},
   "outputs": [],
   "source": []
  }
 ],
 "metadata": {
  "kernelspec": {
   "display_name": "Python 3",
   "language": "python",
   "name": "python3"
  },
  "language_info": {
   "codemirror_mode": {
    "name": "ipython",
    "version": 3
   },
   "file_extension": ".py",
   "mimetype": "text/x-python",
   "name": "python",
   "nbconvert_exporter": "python",
   "pygments_lexer": "ipython3",
   "version": "3.7.6"
  }
 },
 "nbformat": 4,
 "nbformat_minor": 4
}
